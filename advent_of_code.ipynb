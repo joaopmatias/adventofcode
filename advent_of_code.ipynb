{
 "cells": [
  {
   "cell_type": "markdown",
   "metadata": {},
   "source": [
    "# Advent of code"
   ]
  },
  {
   "cell_type": "markdown",
   "metadata": {},
   "source": [
    "# day 1"
   ]
  },
  {
   "cell_type": "code",
   "execution_count": 4,
   "metadata": {
    "execution": {
     "iopub.execute_input": "2023-12-03T01:43:34.618768Z",
     "iopub.status.busy": "2023-12-03T01:43:34.618217Z",
     "iopub.status.idle": "2023-12-03T01:43:34.636825Z",
     "shell.execute_reply": "2023-12-03T01:43:34.636257Z",
     "shell.execute_reply.started": "2023-12-03T01:43:34.618726Z"
    },
    "tags": []
   },
   "outputs": [
    {
     "name": "stdout",
     "output_type": "stream",
     "text": [
      "The sum of all calibration values is 53386\n",
      "\n",
      "The sum of all calibration values in part 2 is 53312\n"
     ]
    }
   ],
   "source": [
    "from io import StringIO\n",
    "\n",
    "import pandas as pd\n",
    "import numpy as np\n",
    "\n",
    "f = StringIO(\n",
    "\"\"\"\n",
    "\n",
    "1abc2\n",
    "pqr3stu8vwx\n",
    "a1b2c3d4e5f\n",
    "treb7uchet\n",
    "\n",
    "\"\"\".strip(\"\\n\")\n",
    ")\n",
    "f = open(\"  day01.txt  \".strip())\n",
    "\n",
    "ans = 0\n",
    "for l in f:\n",
    "    numbers = [c for c in l if c.isdigit()]\n",
    "    ans += int(f\"{numbers[0]}{numbers[-1]}\")\n",
    "\n",
    "print(f\"\"\"\n",
    "The sum of all calibration values is {ans}\n",
    "\"\"\".strip())\n",
    "\n",
    "print()\n",
    "\n",
    "f = StringIO(\n",
    "\"\"\"\n",
    "\n",
    "two1nine\n",
    "eightwothree\n",
    "abcone2threexyz\n",
    "xtwone3four\n",
    "4nineeightseven2\n",
    "zoneight234\n",
    "7pqrstsixteen\n",
    "\n",
    "\"\"\".strip(\"\\n\")\n",
    ")\n",
    "f = open(\"  day01.txt  \".strip())\n",
    "\n",
    "ans = 0\n",
    "for l in f:\n",
    "    ll = (\n",
    "        l\n",
    "        .replace(\"one\", \"one 1 one\")\n",
    "        .replace(\"two\", \"two 2 two\")\n",
    "        .replace(\"three\", \"three 3 three\")\n",
    "        .replace(\"four\", \"four 4 four\")\n",
    "        .replace(\"five\", \"five 5 five\")\n",
    "        .replace(\"six\", \"six 6 six\")\n",
    "        .replace(\"seven\", \"seven 7 seven\")\n",
    "        .replace(\"eight\", \"eight 8 eight\")\n",
    "        .replace(\"nine\", \"nine 9 nine\")\n",
    "        .replace(\" \", \"\")\n",
    "    )\n",
    "    numbers = [c for c in ll if c.isdigit()]\n",
    "    ans += int(f\"{numbers[0]}{numbers[-1]}\")\n",
    "\n",
    "print(f\"\"\"\n",
    "The sum of all calibration values in part 2 is {ans}\n",
    "\"\"\".strip())\n"
   ]
  },
  {
   "cell_type": "markdown",
   "metadata": {},
   "source": [
    "# day 2"
   ]
  },
  {
   "cell_type": "code",
   "execution_count": 18,
   "metadata": {
    "execution": {
     "iopub.execute_input": "2023-12-03T02:29:10.630120Z",
     "iopub.status.busy": "2023-12-03T02:29:10.629461Z",
     "iopub.status.idle": "2023-12-03T02:29:10.652544Z",
     "shell.execute_reply": "2023-12-03T02:29:10.651712Z",
     "shell.execute_reply.started": "2023-12-03T02:29:10.630077Z"
    },
    "tags": []
   },
   "outputs": [
    {
     "name": "stdout",
     "output_type": "stream",
     "text": [
      "The sum of the game ids is 2331\n",
      "\n",
      "The sum of powers of the games is 71585\n"
     ]
    }
   ],
   "source": [
    "from io import StringIO\n",
    "\n",
    "import pandas as pd\n",
    "import numpy as np\n",
    "\n",
    "f = StringIO(\n",
    "\"\"\"\n",
    "Game 1: 3 blue, 4 red; 1 red, 2 green, 6 blue; 2 green\n",
    "Game 2: 1 blue, 2 green; 3 green, 4 blue, 1 red; 1 green, 1 blue\n",
    "Game 3: 8 green, 6 blue, 20 red; 5 blue, 4 red, 13 green; 5 green, 1 red\n",
    "Game 4: 1 green, 3 red, 6 blue; 3 green, 6 red; 3 green, 15 blue, 14 red\n",
    "Game 5: 6 red, 1 blue, 3 green; 2 blue, 1 red, 2 green\n",
    "\"\"\".strip(\"\\n\")\n",
    ")\n",
    "f = open(\"  day02.txt  \".strip())\n",
    "\n",
    "data = []\n",
    "for l in f:\n",
    "    nr, game = l.strip().split(\":\")\n",
    "    nr = nr[4:]\n",
    "    gameplays = list(map(\n",
    "        lambda x: dict([\n",
    "            (\"game\", nr),\n",
    "            *map(\n",
    "                lambda y: tuple(reversed(y.strip().split(\" \"))),\n",
    "                x.split(\",\"))\n",
    "        ]),\n",
    "        game.split(\";\")\n",
    "    ))\n",
    "    data += gameplays\n",
    "\n",
    "data = pd.DataFrame(data).fillna(\"0\").astype(int)\n",
    "\n",
    "ans = (\n",
    "    data\n",
    "    .groupby(\"game\", as_index=False)\n",
    "    .max()\n",
    "    .loc[lambda x: (x[\"red\"] <= 12) & (x[\"green\"] <= 13) & (x[\"blue\"] <= 14)]\n",
    "    [\"game\"]\n",
    "    .sum()\n",
    ")\n",
    "\n",
    "\n",
    "print(f\"\"\"\n",
    "The sum of the game ids is {ans}\n",
    "\"\"\".strip())\n",
    "\n",
    "print()\n",
    "\n",
    "ans = (\n",
    "    data\n",
    "    .groupby(\"game\", as_index=False)\n",
    "    .max()\n",
    "    .assign(power=lambda x: x[\"red\"] * x[\"green\"] * x[\"blue\"])\n",
    "    [\"power\"]\n",
    "    .sum()\n",
    ")\n",
    "\n",
    "\n",
    "print(f\"\"\"\n",
    "The sum of powers of the games is {ans}\n",
    "\"\"\".strip())"
   ]
  },
  {
   "cell_type": "code",
   "execution_count": null,
   "metadata": {},
   "outputs": [],
   "source": []
  },
  {
   "cell_type": "markdown",
   "metadata": {},
   "source": [
    "# template"
   ]
  },
  {
   "cell_type": "raw",
   "metadata": {
    "execution": {
     "iopub.execute_input": "2022-12-04T13:39:31.933602Z",
     "iopub.status.busy": "2022-12-04T13:39:31.932634Z",
     "iopub.status.idle": "2022-12-04T13:39:31.941821Z",
     "shell.execute_reply": "2022-12-04T13:39:31.940704Z",
     "shell.execute_reply.started": "2022-12-04T13:39:31.933508Z"
    },
    "tags": []
   },
   "source": [
    "from io import StringIO\n",
    "\n",
    "import pandas as pd\n",
    "import numpy as np\n",
    "\n",
    "f = StringIO(\n",
    "\"\"\"\n",
    "\n",
    "<sample input>\n",
    "\n",
    "\"\"\".strip(\"\\n\")\n",
    ")\n",
    "# f = open(\"  day0N.txt  \".strip())\n",
    "\n",
    "\n",
    "\n",
    "print(f\"\"\"\n",
    "The solution is {\"SOLUTION\"}\n",
    "\"\"\".strip())"
   ]
  },
  {
   "cell_type": "code",
   "execution_count": null,
   "metadata": {},
   "outputs": [],
   "source": []
  }
 ],
 "metadata": {
  "kernelspec": {
   "display_name": "Python 3 (ipykernel)",
   "language": "python",
   "name": "python3"
  },
  "language_info": {
   "codemirror_mode": {
    "name": "ipython",
    "version": 3
   },
   "file_extension": ".py",
   "mimetype": "text/x-python",
   "name": "python",
   "nbconvert_exporter": "python",
   "pygments_lexer": "ipython3",
   "version": "3.11.3"
  }
 },
 "nbformat": 4,
 "nbformat_minor": 4
}
