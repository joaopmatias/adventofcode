{
 "cells": [
  {
   "cell_type": "markdown",
   "metadata": {},
   "source": [
    "# Advent of code"
   ]
  },
  {
   "cell_type": "markdown",
   "metadata": {},
   "source": [
    "### day 1"
   ]
  },
  {
   "cell_type": "code",
   "execution_count": 20,
   "metadata": {
    "execution": {
     "iopub.execute_input": "2022-12-01T22:32:00.098976Z",
     "iopub.status.busy": "2022-12-01T22:32:00.097349Z",
     "iopub.status.idle": "2022-12-01T22:32:00.118670Z",
     "shell.execute_reply": "2022-12-01T22:32:00.118047Z",
     "shell.execute_reply.started": "2022-12-01T22:32:00.098903Z"
    },
    "tags": []
   },
   "outputs": [
    {
     "name": "stdout",
     "output_type": "stream",
     "text": [
      "The elf with the most calories has [69693]\n",
      "The top 3 elves have [200945]\n"
     ]
    }
   ],
   "source": [
    "from io import StringIO\n",
    "\n",
    "import pandas as pd\n",
    "import numpy as np\n",
    "\n",
    "f = StringIO(\n",
    "\"\"\"\n",
    "1000\n",
    "2000\n",
    "3000\n",
    "\n",
    "4000\n",
    "\n",
    "5000\n",
    "6000\n",
    "\n",
    "7000\n",
    "8000\n",
    "9000\n",
    "\n",
    "10000\n",
    "\"\"\"\n",
    ")\n",
    "f = open(\"day1.txt\")\n",
    "elfs = (\n",
    "    pd.Series(f)\n",
    "    .rename(\"calories\")\n",
    "    .str.strip()\n",
    "    .loc[lambda s: s != \"\"]\n",
    "    .astype(int)\n",
    "    .to_frame()\n",
    "    .reset_index()\n",
    "    .assign(elf=lambda df: df[\"index\"] - df.index)\n",
    "    [[\"elf\", \"calories\"]]\n",
    "    .groupby(by=\"elf\")\n",
    "    .sum()\n",
    ")\n",
    "\n",
    "print(f\"The elf with the most calories has {elfs.max().to_numpy()}\")\n",
    "\n",
    "top3 = (\n",
    "    elfs\n",
    "    .sort_values(\"calories\", ascending=False)\n",
    "    .iloc[:3]\n",
    ")\n",
    "\n",
    "print(f\"The top 3 elves have {top3.sum().to_numpy()}\")\n"
   ]
  },
  {
   "cell_type": "code",
   "execution_count": null,
   "metadata": {},
   "outputs": [],
   "source": []
  }
 ],
 "metadata": {
  "kernelspec": {
   "display_name": "Python 3 (ipykernel)",
   "language": "python",
   "name": "python3"
  },
  "language_info": {
   "codemirror_mode": {
    "name": "ipython",
    "version": 3
   },
   "file_extension": ".py",
   "mimetype": "text/x-python",
   "name": "python",
   "nbconvert_exporter": "python",
   "pygments_lexer": "ipython3",
   "version": "3.9.12"
  }
 },
 "nbformat": 4,
 "nbformat_minor": 4
}
