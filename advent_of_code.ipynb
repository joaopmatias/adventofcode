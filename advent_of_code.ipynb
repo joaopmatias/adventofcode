{
 "cells": [
  {
   "cell_type": "markdown",
   "metadata": {},
   "source": [
    "# Advent of code"
   ]
  },
  {
   "cell_type": "markdown",
   "metadata": {},
   "source": [
    "### day 1"
   ]
  },
  {
   "cell_type": "code",
   "execution_count": 20,
   "metadata": {},
   "outputs": [
    {
     "name": "stdout",
     "output_type": "stream",
     "text": [
      "   values\n",
      "0     NaN\n",
      "1   118.0\n",
      "2   121.0\n",
      "3   123.0\n",
      "4   125.0\n",
      "The value increases 1553 times\n",
      "\n",
      " second \n",
      "\n",
      "       values\n",
      "1995  23858.0\n",
      "1996  23872.0\n",
      "1997  23881.0\n",
      "1998      NaN\n",
      "1999      NaN\n",
      "The value increases 1597 times\n"
     ]
    }
   ],
   "source": [
    "import pandas as pd\n",
    "\n",
    "df = pd.read_csv(\"day1.csv\", names=[\"values\"])\n",
    "print(df.shift(1).head())\n",
    "ans = ((df - df.shift(1)) > 0).sum()[0]\n",
    "print(f\"The value increases {ans} times\")\n",
    "\n",
    "print(\"\\n second \\n\")\n",
    "\n",
    "print(df.rolling(3).sum().shift(-2).tail())\n",
    "\n",
    "ans = ((df.rolling(3).sum().shift(-2) - df.rolling(3).sum().shift(-1)) > 0).sum()[0]\n",
    "print(f\"The value increases {ans} times\")\n"
   ]
  },
  {
   "cell_type": "markdown",
   "metadata": {},
   "source": [
    "# day 2"
   ]
  },
  {
   "cell_type": "code",
   "execution_count": 34,
   "metadata": {},
   "outputs": [
    {
     "name": "stdout",
     "output_type": "stream",
     "text": [
      "   dx  dy\n",
      "0   2   0\n",
      "1   0  -7\n",
      "2   0  -8\n",
      "3   9   0\n",
      "4   0  -8\n",
      "The product of the final coordinates is 1670340\n",
      "   dx   dz\n",
      "0   2    0\n",
      "1   0    0\n",
      "2   0    0\n",
      "3   9  135\n",
      "4   0    0\n",
      "The product of the final coordinates is 1954293920\n"
     ]
    }
   ],
   "source": [
    "import pandas as pd\n",
    "import numpy as np\n",
    "\n",
    "dx = {\n",
    "    \"forward\": 1,\n",
    "    \"back\": -1,\n",
    "    \"down\": 0,\n",
    "    \"up\": 0,\n",
    "}\n",
    "dy = {\n",
    "    \"forward\": 0,\n",
    "    \"back\": 0,\n",
    "    \"down\": -1,\n",
    "    \"up\": 1,\n",
    "}\n",
    "\n",
    "moves = (\n",
    "    pd.read_csv(\"day2.csv\", sep=\" \", names=[\"direction\", \"value\"])\n",
    "    .assign(dx=lambda df: df[\"direction\"].replace(dx) * df[\"value\"])\n",
    "    .assign(dy=lambda df: df[\"direction\"].replace(dy) * df[\"value\"])\n",
    "    [[\"dx\", \"dy\"]]\n",
    ")\n",
    "print(moves.head(5))\n",
    "print(f\"The product of the final coordinates is {moves.sum().prod() * (-1)}\")\n",
    "moves = (\n",
    "    moves\n",
    "    .assign(aim=lambda df: df[\"dy\"].cumsum() * (-1))\n",
    "    .assign(dz=lambda df: (df[\"aim\"] * df[\"dx\"]))\n",
    "    [[\"dx\", \"dz\"]]\n",
    ")\n",
    "print(moves.head(5))\n",
    "print(f\"The product of the final coordinates is {moves.sum().prod()}\")\n"
   ]
  },
  {
   "cell_type": "markdown",
   "metadata": {},
   "source": [
    "# day 3"
   ]
  },
  {
   "cell_type": "code",
   "execution_count": 111,
   "metadata": {
    "tags": []
   },
   "outputs": [
    {
     "name": "stdout",
     "output_type": "stream",
     "text": [
      "The product of gamma and epsilon is 749376\n",
      "The product of o2 and c02 is 2372923\n"
     ]
    }
   ],
   "source": [
    "import pandas as pd\n",
    "import numpy as np\n",
    "\n",
    "bits = pd.read_csv(\"day3.csv\", names=[\"value\"], dtype=str)\n",
    "p = (\n",
    "    pd.DataFrame(bits[\"value\"].apply(tuple).tolist())\n",
    "    .astype(int)\n",
    "    .mean()\n",
    "    .round()\n",
    "    .astype(int)\n",
    "    .to_frame(\"gamma\")\n",
    "    .assign(epsilon=lambda df: 1 - df[\"gamma\"])\n",
    "    .astype(str)\n",
    "    .sum()\n",
    "    .apply(lambda x: int(x, 2))\n",
    "    .prod()\n",
    ")\n",
    "print(f\"The product of gamma and epsilon is {p}\")\n",
    "\n",
    "bits = pd.DataFrame(bits[\"value\"].apply(tuple).tolist()).astype(int)\n",
    "ix = bits.index\n",
    "for col, values in bits.iteritems():\n",
    "    v = values.loc[ix]\n",
    "    common = int(round(v.mean() + 1e-6))\n",
    "    ix = v[v == common].index\n",
    "o2 = ix\n",
    "ix = bits.index\n",
    "for col, values in bits.iteritems():\n",
    "    v = values.loc[ix]\n",
    "    uncommon = int(1 - round(v.mean() + 1e-6))\n",
    "    ix = v[v == uncommon].index if sum(v == uncommon) else ix\n",
    "co2 = ix\n",
    "q = (\n",
    "    bits\n",
    "    .loc[o2.union(co2), :]\n",
    "    .astype(str)\n",
    "    .sum(axis=1)\n",
    "    .astype(int)\n",
    "    .astype(str)\n",
    "    .apply(lambda x: int(x, 2))\n",
    "    .prod()\n",
    ")\n",
    "print(f\"The product of o2 and co2 is {q}\")"
   ]
  },
  {
   "cell_type": "markdown",
   "metadata": {},
   "source": [
    "# day 4"
   ]
  },
  {
   "cell_type": "code",
   "execution_count": 81,
   "metadata": {},
   "outputs": [
    {
     "name": "stdout",
     "output_type": "stream",
     "text": [
      "Sample: [67, 31, 58, 8, 79]\n",
      "Sample:\n",
      "     0   1   2   3   4\n",
      "0  87  49  12  85  88\n",
      "1  67  89   7  35  70\n",
      "2  37  45  93  84   9\n",
      "3  80  58  54  13  22\n",
      "4   8  71  48  15  39\n",
      "Winning board:\n",
      "     0   1   2   3   4\n",
      "0  99  54  74  83  92\n",
      "1  27  53  15  -1  -1\n",
      "2  94  36  63  29  91\n",
      "3  -1  -1  -1  -1  -1\n",
      "4   9  95  23  98  33\n",
      "x= 10\n",
      "Sum of unmarked numbers: 1068\n",
      "Product is: 10680\n",
      "Last winning board:\n",
      "     0   1   2   3   4\n",
      "0  -1  49  71  59  90\n",
      "1  -1  -1  -1  -1  -1\n",
      "2  48  -1  -1  -1  -1\n",
      "3  88  -1  -1  -1  -1\n",
      "4  -1  -1  64  -1  -1\n",
      "x= 68\n",
      "Sum of unmarked numbers: 469\n",
      "Product is: 31892\n"
     ]
    }
   ],
   "source": [
    "\n",
    "import pandas as pd\n",
    "import numpy as np\n",
    "from io import StringIO\n",
    "\n",
    "f = open(\"day4.txt\", \"r\")\n",
    "numbers = list(map(int, ''.join(f.readline()).strip().split(\",\")))\n",
    "print(\"Sample:\", numbers[:5])\n",
    "\n",
    "boards = []\n",
    "while True:\n",
    "    board = ''.join(f.readline() for _ in range(6)).strip().replace(\"  \", \" \").replace(\"\\n \", \"\\n\")\n",
    "    if not board:\n",
    "        break\n",
    "    boards.append(pd.read_csv(StringIO(board), sep=\" \", header=None))\n",
    "\n",
    "print(\"Sample:\\n\", boards[3])\n",
    "\n",
    "stop = False\n",
    "for x in numbers:\n",
    "    if stop:\n",
    "        break\n",
    "    for df in boards:\n",
    "        df.replace(x, -1, inplace=True)\n",
    "        if any((df == -1).sum(axis=0) == 5) or any((df == -1).sum(axis=1) == 5):\n",
    "            print(\"Winning board:\\n\", df)\n",
    "            print(\"x=\", x)\n",
    "            unmarked = df.sum().sum() + (df == -1).sum().sum()\n",
    "            print(\"Sum of unmarked numbers:\", unmarked)\n",
    "            print(\"Product is:\", x * unmarked)\n",
    "            stop = True\n",
    "            \n",
    "stop_df = None\n",
    "stop_x = None\n",
    "for x in numbers:\n",
    "    for i, df in enumerate(boards):\n",
    "        if df is not None:\n",
    "            df.replace(x, -1, inplace=True)\n",
    "            if any((df == -1).sum(axis=0) == 5) or any((df == -1).sum(axis=1) == 5):\n",
    "                stop_df = df\n",
    "                stop_x = x\n",
    "                boards[i] = None\n",
    "print(\"Last winning board:\\n\", stop_df)\n",
    "print(\"x=\", stop_x)\n",
    "unmarked = stop_df.sum().sum() + (stop_df == -1).sum().sum()\n",
    "print(\"Sum of unmarked numbers:\", unmarked)\n",
    "print(\"Product is:\", stop_x * unmarked)\n"
   ]
  },
  {
   "cell_type": "markdown",
   "metadata": {},
   "source": [
    "# day 5"
   ]
  },
  {
   "cell_type": "code",
   "execution_count": 54,
   "metadata": {},
   "outputs": [
    {
     "name": "stdout",
     "output_type": "stream",
     "text": [
      "Sample:\n",
      "      x    y    r    s\n",
      "0  456  846  221  846\n",
      "1  980  926   73   19\n",
      "2  682  930  562  930\n",
      "3  766  592  274  100\n",
      "4  247  685  247   21\n",
      "Number of vents:  252569\n",
      "x: 10 989\n",
      "y: 10 990\n",
      "Number of locations with 2 or more vents: 5280\n",
      "Number of locations with 2 or more vents: 16716\n"
     ]
    }
   ],
   "source": [
    "import pandas as pd\n",
    "import numpy as np\n",
    "from io import StringIO\n",
    "from functools import partial\n",
    "\n",
    "f = open(\"day5.txt\", \"r\")\n",
    "\n",
    "ins = f.read().replace(\" -> \", \",\")\n",
    "df = pd.read_csv(StringIO(ins), names=[\"x\", \"y\", \"r\", \"s\"])\n",
    "print(\"Sample:\\n\", df.head())\n",
    "print(\"Number of vents: \", (df[\"x\"] - df[\"r\"].rename(\"x\")).abs().sum() + (df[\"y\"] - df[\"s\"].rename(\"y\")).abs().sum())\n",
    "print(\"x:\", min(df[\"x\"].min(), df[\"r\"].min()), max(df[\"x\"].max(), df[\"r\"].max()))\n",
    "print(\"y:\", min(df[\"y\"].min(), df[\"s\"].min()), max(df[\"y\"].max(), df[\"s\"].max()))\n",
    "\n",
    "ocean = np.zeros((1000, 1000), dtype=int)\n",
    "\n",
    "def line(arr, x, y, r, s, **kwargs):\n",
    "    if x == r:\n",
    "        if y < s:\n",
    "            arr[x, y:(s+1)] += 1\n",
    "        else:\n",
    "            arr[x, s:(y+1)] += 1\n",
    "    elif y == s:\n",
    "        if x < r:\n",
    "            arr[x:(r+1), y] += 1\n",
    "        else:\n",
    "            arr[r:(x+1), y] += 1        \n",
    "\n",
    "for row in df.itertuples():\n",
    "    line(arr=ocean, **row._asdict())\n",
    "print(\"Number of locations with 2 or more vents:\", (ocean >= 2).sum().sum())\n",
    "\n",
    "ocean = np.zeros((1000, 1000), dtype=int)\n",
    "\n",
    "def line(arr, x, y, r, s, **kwargs):\n",
    "    if x == r:\n",
    "        if y < s:\n",
    "            arr[x, y:(s+1)] += 1\n",
    "        else:\n",
    "            arr[x, s:(y+1)] += 1\n",
    "    elif y == s:\n",
    "        if x < r:\n",
    "            arr[x:(r+1), y] += 1\n",
    "        else:\n",
    "            arr[r:(x+1), y] += 1\n",
    "    elif abs(x - r) == abs(y - s):\n",
    "        for i, j in zip(range(x, r, 1 - 2 * (x > r)), range(y, s, 1 - 2 * (y > s))):\n",
    "            arr[i][j] += 1\n",
    "        arr[r][s] += 1\n",
    "\n",
    "for row in df.itertuples():\n",
    "    line(arr=ocean, **row._asdict())\n",
    "print(\"Number of locations with 2 or more vents:\", (ocean >= 2).sum().sum())\n"
   ]
  },
  {
   "cell_type": "markdown",
   "metadata": {},
   "source": [
    "# day 6"
   ]
  },
  {
   "cell_type": "code",
   "execution_count": 17,
   "metadata": {},
   "outputs": [
    {
     "name": "stdout",
     "output_type": "stream",
     "text": [
      "Sample: [3, 4, 1, 2, 1]\n",
      "Number of fish after 80 days: 365131\n",
      "Number of fish after 256 days: 1650309278600\n"
     ]
    }
   ],
   "source": [
    "import pandas as pd\n",
    "import numpy as np\n",
    "from numpy.linalg import matrix_power\n",
    "from collections import Counter\n",
    "\n",
    "f = open(\"day6.txt\")\n",
    "initial = list(map(int, f.read().strip().split(\",\")))\n",
    "print(\"Sample:\", initial[:5])\n",
    "m = np.zeros((9, 9), dtype=int)\n",
    "\n",
    "for i in range(8):\n",
    "    m[i, i+1] = 1\n",
    "m[6, 0] = 1\n",
    "m[8, 0] = 1\n",
    "\n",
    "fish = np.zeros((9,), dtype=int)\n",
    "\n",
    "for i, j in Counter(initial).items():\n",
    "    fish[i] = j\n",
    "print(\"Number of fish after 80 days:\", matrix_power(m, 80).dot(fish).sum())\n",
    "print(\"Number of fish after 256 days:\", matrix_power(m, 256).dot(fish).sum())"
   ]
  },
  {
   "cell_type": "markdown",
   "metadata": {},
   "source": [
    "# day 7"
   ]
  },
  {
   "cell_type": "code",
   "execution_count": 14,
   "metadata": {},
   "outputs": [
    {
     "name": "stdout",
     "output_type": "stream",
     "text": [
      "Sample: [1101, 1, 29, 67, 1102]\n",
      "min 0 max 1982\n",
      "Best horizontal: 298\n",
      "Least fuel: 356958\n",
      "Best horizontal: 464\n",
      "Least fuel: 105461913\n"
     ]
    }
   ],
   "source": [
    "import pandas as pd\n",
    "import numpy as np\n",
    "\n",
    "f = open(\"day7.txt\", \"r\")\n",
    "crabs = list(map(int, f.read().strip().split(\",\")))\n",
    "print(\"Sample:\", crabs[:5])\n",
    "\n",
    "pos = np.array(crabs, dtype=int)\n",
    "a, b = pos.min(), pos.max() + 1\n",
    "print(\"min\", a, \"max\", b)\n",
    "fuel = np.nan\n",
    "ans = np.nan\n",
    "for i in range(a, b):\n",
    "    if not fuel < np.abs(pos - i).sum():\n",
    "        ans = i\n",
    "        fuel = np.abs(pos - i).sum()\n",
    "print(\"Best horizontal:\", ans)\n",
    "print(\"Least fuel:\", fuel)\n",
    "\n",
    "fuel = np.nan\n",
    "ans = np.nan\n",
    "for i in range(a, b):\n",
    "    if not fuel < (np.square(pos - i) + np.abs(pos - i)).sum() // 2:\n",
    "        ans = i\n",
    "        fuel = (np.square(pos - i) + np.abs(pos - i)).sum() // 2\n",
    "print(\"Best horizontal:\", ans)\n",
    "print(\"Least fuel:\", fuel)"
   ]
  },
  {
   "cell_type": "markdown",
   "metadata": {},
   "source": [
    "# day 8"
   ]
  },
  {
   "cell_type": "code",
   "execution_count": 65,
   "metadata": {},
   "outputs": [
    {
     "name": "stdout",
     "output_type": "stream",
     "text": [
      "Number of 1, 4, 7, 8: 521\n",
      "Sample:\n",
      " [{0, 1, 2, 4, 5, 6}, {2, 5}, {0, 2, 3, 4, 6}, {0, 2, 3, 5, 6}, {1, 2, 3, 5}, {0, 1, 3, 5, 6}, {0, 1, 3, 4, 5, 6}, {0, 2, 5}, {0, 1, 2, 3, 4, 5, 6}, {0, 1, 2, 3, 5, 6}]\n",
      "Sample:\n",
      " [{'a': 0, 'b': 1, 'c': 2, 'd': 3, 'e': 4, 'f': 5, 'g': 6}, {'a': 0, 'b': 1, 'c': 2, 'd': 3, 'e': 4, 'f': 6, 'g': 5}, {'a': 0, 'b': 1, 'c': 2, 'd': 3, 'e': 5, 'f': 4, 'g': 6}, {'a': 0, 'b': 1, 'c': 2, 'd': 3, 'e': 5, 'f': 6, 'g': 4}, {'a': 0, 'b': 1, 'c': 2, 'd': 3, 'e': 6, 'f': 4, 'g': 5}]\n",
      "Sum: 1016804\n"
     ]
    }
   ],
   "source": [
    "import pandas as pd\n",
    "import numpy as np\n",
    "from itertools import permutations\n",
    "from functools import partial\n",
    "from io import StringIO\n",
    "\n",
    "with open(\"day8.txt\", \"r\") as f:\n",
    "    print(\"Number of 1, 4, 7, 8:\", sum(len(x) in {2, 3, 4, 7} for line in f for x in line.split(\"|\")[1].strip().split(\" \")))\n",
    "\n",
    "digits = {\n",
    "    0: {0, 1, 2, 4, 5, 6},\n",
    "    1: {2, 5},\n",
    "    2: {0, 2, 3, 4, 6},\n",
    "    3: {0, 2, 3, 5, 6},\n",
    "    4: {1, 2, 3, 5},\n",
    "    5: {0, 1, 3, 5, 6},\n",
    "    6: {0, 1, 3, 4, 5, 6},\n",
    "    7: {0, 2, 5},\n",
    "    8: {0, 1, 2, 3, 4, 5, 6},\n",
    "    9: {0, 1, 2, 3, 5, 6},\n",
    "}\n",
    "l_digits = list(zip(*sorted(digits.items())))[1]\n",
    "print(\"Sample:\\n\", list(l_digits))\n",
    "eligible = list(map(dict, map(partial(zip, tuple(\"abcdefg\")), permutations(range(7)))))\n",
    "print(\"Sample:\\n\", eligible[:5])\n",
    "ans = 0\n",
    "test = \"\"\"be cfbegad cbdgef fgaecd cgeb fdcge agebfd fecdb fabcd edb | fdgacbe cefdb cefbgd gcbe\n",
    "edbfga begcd cbg gc gcadebf fbgde acbgfd abcde gfcbed gfec | fcgedb cgb dgebacf gc\n",
    "fgaebd cg bdaec gdafb agbcfd gdcbef bgcad gfac gcb cdgabef | cg cg fdcagb cbg\n",
    "fbegcd cbd adcefb dageb afcb bc aefdc ecdab fgdeca fcdbega | efabcd cedba gadfec cb\n",
    "aecbfdg fbg gf bafeg dbefa fcge gcbea fcaegb dgceab fcbdga | gecf egdcabf bgf bfgea\n",
    "fgeab ca afcebg bdacfeg cfaedg gcfdb baec bfadeg bafgc acf | gebdcfa ecba ca fadegcb\n",
    "dbcfg fgd bdegcaf fgec aegbdf ecdfab fbedc dacgb gdcebf gf | cefg dcbef fcge gbcadfe\n",
    "bdfegc cbegaf gecbf dfcage bdacg ed bedf ced adcbefg gebcd | ed bcgafe cdgba cbgef\n",
    "egadfb cdbfeg cegd fecab cgb gbdefca cg fgcdab egfdb bfceg | gbdfcae bgc cg cgb\n",
    "gcafb gcf dcaebfg ecagb gf abcdeg gaef cafbge fdbac fegbdc | fgae cfgab fg bagce\"\"\"\n",
    "# with StringIO(test) as f:\n",
    "with open(\"day8.txt\", \"r\") as f:\n",
    "    for line in f:\n",
    "        for candidate in eligible:\n",
    "            stop = False\n",
    "            for v in line.split(\"|\")[0].strip().split(\" \"):\n",
    "                if set(map(candidate.get, v)) not in l_digits:\n",
    "                    stop = True\n",
    "                    break\n",
    "            if stop:\n",
    "                continue\n",
    "            else:\n",
    "                ans += int(''.join(\n",
    "                    map(\n",
    "                        str,\n",
    "                        map(\n",
    "                            l_digits.index, \n",
    "                            map(\n",
    "                                set, \n",
    "                                map(\n",
    "                                    partial(map, candidate.get),\n",
    "                                    line.split(\"|\")[1].strip().split(\" \"),\n",
    "                                )\n",
    "                            )\n",
    "                        )\n",
    "                    )\n",
    "                ))\n",
    "                break\n",
    "print(\"Sum:\", ans)\n"
   ]
  },
  {
   "cell_type": "markdown",
   "metadata": {},
   "source": [
    "# day 9"
   ]
  },
  {
   "cell_type": "code",
   "execution_count": 114,
   "metadata": {
    "tags": []
   },
   "outputs": [
    {
     "name": "stdout",
     "output_type": "stream",
     "text": [
      "Sample:\n",
      "    0   1   2   3   4   5   6   7   8   9   ...  90  91  92  93  94  95  96  \\\n",
      "0   8   6   5   6   4   5   6   7   8   9  ...   7   7   9   7   6   5   5   \n",
      "1   6   5   4   5   3   4   5   9   9   6  ...   5   6   7   9   5   4   3   \n",
      "2   5   4   3   1   2   3   9   8   7   9  ...   6   7   8   9   6   5   4   \n",
      "3   6   5   2   0   1   3   9   7   6   8  ...   7   8   9   9   8   7   5   \n",
      "4   7   6   3   1   2   9   7   6   5   7  ...   8   9   6   9   9   8   7   \n",
      "\n",
      "   97  98  99  \n",
      "0   6   6   7  \n",
      "1   1   5   6  \n",
      "2   3   4   5  \n",
      "3   4   5   6  \n",
      "4   8   8   7  \n",
      "\n",
      "[5 rows x 100 columns]\n",
      "Numer of lows: 603\n",
      "Largest component sizes: [94, 93, 90, 86, 86]\n",
      "Product: 786780\n"
     ]
    }
   ],
   "source": [
    "import numpy as np\n",
    "import pandas as pd\n",
    "from collections import deque\n",
    "from itertools import product\n",
    "\n",
    "cave = pd.read_csv(\"day9.txt\", header=None)[0].str.split(\"\", expand=True).drop([0, 101], axis=1).astype(int).set_axis(range(100), axis=1)\n",
    "print(\"Sample:\\n\", cave.head())\n",
    "low = (\n",
    "    (cave < cave.shift(-1, axis=0).fillna(np.inf)) &\n",
    "    (cave < cave.shift(-1, axis=1).fillna(np.inf)) &\n",
    "    (cave < cave.shift( 1, axis=0).fillna(np.inf)) &\n",
    "    (cave < cave.shift( 1, axis=1).fillna(np.inf))\n",
    ")\n",
    "print(\"Numer of lows:\", int((cave[low] + 1).sum().sum()))\n",
    "\n",
    "visited = (cave == 9)\n",
    "conn_idx = (cave == 9) * (-1)\n",
    "conn = []\n",
    "q = []\n",
    "for i, p in enumerate(product(range(100), range(100))):\n",
    "    if not visited.loc[p]:\n",
    "        conn.append({p})\n",
    "        conn_idx.loc[p] = i\n",
    "        q.append((p, p))\n",
    "    else:\n",
    "        conn.append({})\n",
    "while len(q) > 0:\n",
    "    now, prev = q.pop()\n",
    "    if not visited.loc[now]:\n",
    "        visited.loc[now] = True\n",
    "        for di, dj in [(-1, 0), (0, -1), (0, 1), (1, 0)]:\n",
    "            if (0 <= now[0] + di < 100) and (0 <= now[1] + dj < 100) and conn_idx.loc[(now[0] + di, now[1] + dj)] != -1:\n",
    "                q.append(((now[0] + di, now[1] + dj), now))\n",
    "    a = conn_idx.loc[prev]\n",
    "    b = conn_idx.loc[now]\n",
    "    if b != a:\n",
    "        big, small = (b, a) if len(conn[b]) > len(conn[a]) else (a, b)\n",
    "        for p in conn[small]:\n",
    "            conn_idx.loc[p] = big\n",
    "        conn[big].update(conn[small])\n",
    "        conn[small] == set()\n",
    "l = list(sorted(map(len, conn), reverse=True))[:5]\n",
    "print(\"Largest component sizes:\", l[:5])\n",
    "print(\"Product:\", l[0] * l[1] * l[2])"
   ]
  },
  {
   "cell_type": "code",
   "execution_count": null,
   "metadata": {},
   "outputs": [],
   "source": []
  }
 ],
 "metadata": {
  "kernelspec": {
   "display_name": "Python 3.7.7 64-bit ('base': conda)",
   "language": "python",
   "name": "python37764bitbaseconda37954dff223d45cdb7690fc0a86caf21"
  },
  "language_info": {
   "codemirror_mode": {
    "name": "ipython",
    "version": 3
   },
   "file_extension": ".py",
   "mimetype": "text/x-python",
   "name": "python",
   "nbconvert_exporter": "python",
   "pygments_lexer": "ipython3",
   "version": "3.7.7"
  }
 },
 "nbformat": 4,
 "nbformat_minor": 4
}
