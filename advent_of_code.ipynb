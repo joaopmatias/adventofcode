{
 "cells": [
  {
   "cell_type": "markdown",
   "metadata": {},
   "source": [
    "# Advent of code"
   ]
  },
  {
   "cell_type": "markdown",
   "metadata": {},
   "source": [
    "# day 1"
   ]
  },
  {
   "cell_type": "code",
   "execution_count": null,
   "metadata": {},
   "outputs": [],
   "source": []
  },
  {
   "cell_type": "code",
   "execution_count": null,
   "metadata": {},
   "outputs": [],
   "source": []
  },
  {
   "cell_type": "code",
   "execution_count": null,
   "metadata": {},
   "outputs": [],
   "source": []
  },
  {
   "cell_type": "markdown",
   "metadata": {},
   "source": [
    "# template"
   ]
  },
  {
   "cell_type": "raw",
   "metadata": {
    "execution": {
     "iopub.execute_input": "2022-12-04T13:39:31.933602Z",
     "iopub.status.busy": "2022-12-04T13:39:31.932634Z",
     "iopub.status.idle": "2022-12-04T13:39:31.941821Z",
     "shell.execute_reply": "2022-12-04T13:39:31.940704Z",
     "shell.execute_reply.started": "2022-12-04T13:39:31.933508Z"
    },
    "tags": []
   },
   "source": [
    "from io import StringIO\n",
    "\n",
    "import pandas as pd\n",
    "import numpy as np\n",
    "\n",
    "f = StringIO(\n",
    "\"\"\"\n",
    "\n",
    "<sample input>\n",
    "\n",
    "\"\"\".strip(\"\\n\")\n",
    ")\n",
    "# f = open(\"  day0N.txt  \".strip())\n",
    "\n",
    "\n",
    "\n",
    "print(f\"\"\"\n",
    "The solution is {\"SOLUTION\"}\n",
    "\"\"\".strip())"
   ]
  },
  {
   "cell_type": "code",
   "execution_count": null,
   "metadata": {},
   "outputs": [],
   "source": []
  }
 ],
 "metadata": {
  "kernelspec": {
   "display_name": "Python 3 (ipykernel)",
   "language": "python",
   "name": "python3"
  },
  "language_info": {
   "codemirror_mode": {
    "name": "ipython",
    "version": 3
   },
   "file_extension": ".py",
   "mimetype": "text/x-python",
   "name": "python",
   "nbconvert_exporter": "python",
   "pygments_lexer": "ipython3",
   "version": "3.11.3"
  }
 },
 "nbformat": 4,
 "nbformat_minor": 4
}
