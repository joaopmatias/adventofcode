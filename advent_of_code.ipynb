{
 "cells": [
  {
   "cell_type": "markdown",
   "metadata": {},
   "source": [
    "# Advent of code"
   ]
  },
  {
   "cell_type": "markdown",
   "metadata": {},
   "source": [
    "### day 1"
   ]
  },
  {
   "cell_type": "code",
   "execution_count": 20,
   "metadata": {
    "execution": {
     "iopub.execute_input": "2022-12-01T22:32:00.098976Z",
     "iopub.status.busy": "2022-12-01T22:32:00.097349Z",
     "iopub.status.idle": "2022-12-01T22:32:00.118670Z",
     "shell.execute_reply": "2022-12-01T22:32:00.118047Z",
     "shell.execute_reply.started": "2022-12-01T22:32:00.098903Z"
    },
    "tags": []
   },
   "outputs": [
    {
     "name": "stdout",
     "output_type": "stream",
     "text": [
      "The elf with the most calories has [69693]\n",
      "The top 3 elves have [200945]\n"
     ]
    }
   ],
   "source": [
    "from io import StringIO\n",
    "\n",
    "import pandas as pd\n",
    "import numpy as np\n",
    "\n",
    "f = StringIO(\n",
    "\"\"\"\n",
    "1000\n",
    "2000\n",
    "3000\n",
    "\n",
    "4000\n",
    "\n",
    "5000\n",
    "6000\n",
    "\n",
    "7000\n",
    "8000\n",
    "9000\n",
    "\n",
    "10000\n",
    "\"\"\"\n",
    ")\n",
    "f = open(\"day01.txt\")\n",
    "elfs = (\n",
    "    pd.Series(f)\n",
    "    .rename(\"calories\")\n",
    "    .str.strip()\n",
    "    .loc[lambda s: s != \"\"]\n",
    "    .astype(int)\n",
    "    .to_frame()\n",
    "    .reset_index()\n",
    "    .assign(elf=lambda df: df[\"index\"] - df.index)\n",
    "    [[\"elf\", \"calories\"]]\n",
    "    .groupby(by=\"elf\")\n",
    "    .sum()\n",
    ")\n",
    "\n",
    "print(f\"The elf with the most calories has {elfs.max().to_numpy()}\")\n",
    "\n",
    "top3 = (\n",
    "    elfs\n",
    "    .sort_values(\"calories\", ascending=False)\n",
    "    .iloc[:3]\n",
    ")\n",
    "\n",
    "print(f\"The top 3 elves have {top3.sum().to_numpy()}\")\n"
   ]
  },
  {
   "cell_type": "markdown",
   "metadata": {},
   "source": [
    "# day 2"
   ]
  },
  {
   "cell_type": "code",
   "execution_count": 33,
   "metadata": {
    "execution": {
     "iopub.execute_input": "2022-12-03T00:07:36.251747Z",
     "iopub.status.busy": "2022-12-03T00:07:36.251006Z",
     "iopub.status.idle": "2022-12-03T00:07:36.277414Z",
     "shell.execute_reply": "2022-12-03T00:07:36.276650Z",
     "shell.execute_reply.started": "2022-12-03T00:07:36.251692Z"
    },
    "tags": []
   },
   "outputs": [
    {
     "name": "stdout",
     "output_type": "stream",
     "text": [
      "The total score using the guide: 12740\n",
      "The total score using the 2nd guide: 11980\n"
     ]
    }
   ],
   "source": [
    "from io import StringIO\n",
    "\n",
    "import pandas as pd\n",
    "import numpy as np\n",
    "\n",
    "\"\"\"\n",
    "The first column is what your opponent is going to play: A for Rock, B for Paper, and C for Scissors\n",
    "\n",
    "The second column, you reason, must be what you should play in response: X for Rock, Y for Paper, and Z for Scissors\n",
    "\n",
    "1 for Rock, 2 for Paper, and 3 for Scissors\n",
    "\n",
    "0 if you lost, 3 if the round was a draw, and 6 if you won\n",
    "\"\"\"\n",
    "\n",
    "\n",
    "f = StringIO(\n",
    "\"\"\"\n",
    "A Y\n",
    "B X\n",
    "C Z\n",
    "\"\"\"\n",
    ")\n",
    "f = open(\"day02.txt\")\n",
    "\n",
    "tournament = (\n",
    "    pd.read_csv(f, sep=\" \", header=None)\n",
    "    .set_axis([\"foe\", \"me\"], axis=1)\n",
    "    .replace({\n",
    "        \"A\": 1,\n",
    "        \"B\": 2,\n",
    "        \"C\": 3,\n",
    "        \"X\": 1,\n",
    "        \"Y\": 2,\n",
    "        \"Z\": 3,\n",
    "    })\n",
    "    .assign(outcome=lambda df: ((df[\"me\"] - df[\"foe\"] + 1) % 3) * 3)\n",
    ")\n",
    "\n",
    "print(f\"The total score using the guide: {tournament.sum().loc[['me', 'outcome']].sum()}\")\n",
    "\n",
    "\"\"\"\n",
    "X means you need to lose, Y means you need to end the round in a draw, and Z means you need to win\n",
    "\"\"\"\n",
    "\n",
    "tournament2 = (\n",
    "    tournament\n",
    "    .assign(outcome=lambda df: 3 * (df[\"me\"] - 1))\n",
    "    .assign(me=lambda df: (df[\"me\"] + df[\"foe\"]) % 3 + 1)\n",
    ")\n",
    "\n",
    "print(f\"The total score using the 2nd guide: {tournament2.sum().loc[['me', 'outcome']].sum()}\")\n"
   ]
  },
  {
   "cell_type": "markdown",
   "metadata": {},
   "source": [
    "# day 3"
   ]
  },
  {
   "cell_type": "code",
   "execution_count": 69,
   "metadata": {
    "execution": {
     "iopub.execute_input": "2022-12-03T13:45:47.057433Z",
     "iopub.status.busy": "2022-12-03T13:45:47.056469Z",
     "iopub.status.idle": "2022-12-03T13:45:47.073278Z",
     "shell.execute_reply": "2022-12-03T13:45:47.072775Z",
     "shell.execute_reply.started": "2022-12-03T13:45:47.057368Z"
    },
    "tags": []
   },
   "outputs": [
    {
     "name": "stdout",
     "output_type": "stream",
     "text": [
      "The sum to priorities is 7980\n",
      "The sum to the badges priorities is 2881\n"
     ]
    }
   ],
   "source": [
    "from io import StringIO\n",
    "\n",
    "import pandas as pd\n",
    "import numpy as np\n",
    "\n",
    "f = StringIO(\n",
    "\"\"\"\n",
    "vJrwpWtwJgWrhcsFMMfFFhFp\n",
    "jqHRNqRjqzjGDLGLrsFMfFZSrLrFZsSL\n",
    "PmmdzqPrVvPwwTWBwg\n",
    "wMqvLMZHhHMvwLHjbvcjnnSBnvTQFn\n",
    "ttgJtRGJQctTZtZT\n",
    "CrZsJsPPZsGzwwsLwLmpwMDw\n",
    "\"\"\".strip()\n",
    ")\n",
    "f = open(\"day03.txt\")\n",
    "total = 0\n",
    "for l in f:\n",
    "    ll = l.strip()\n",
    "    aa = set(ll[:len(ll) // 2])\n",
    "    bb = set(ll[len(ll) // 2:])\n",
    "    oo = ord((aa & bb).pop())\n",
    "    total += oo - 96 if oo > 95 else oo - 65 + 27\n",
    "\n",
    "print(f\"The sum to priorities is {total}\")\n",
    "\n",
    "f = StringIO(\n",
    "\"\"\"\n",
    "vJrwpWtwJgWrhcsFMMfFFhFp\n",
    "jqHRNqRjqzjGDLGLrsFMfFZSrLrFZsSL\n",
    "PmmdzqPrVvPwwTWBwg\n",
    "wMqvLMZHhHMvwLHjbvcjnnSBnvTQFn\n",
    "ttgJtRGJQctTZtZT\n",
    "CrZsJsPPZsGzwwsLwLmpwMDw\n",
    "\"\"\".strip()\n",
    ")\n",
    "f = open(\"day03.txt\")\n",
    "total = 0\n",
    "lines = f.readlines()\n",
    "for a, b, c in zip(lines[0::3], lines[1::3], lines[2::3]):\n",
    "    badge = (set(a.strip()) & set(b.strip()) & set(c.strip())).pop()\n",
    "    oo = ord(badge)\n",
    "    total += oo - 96 if oo > 95 else oo - 65 + 27\n",
    "    \n",
    "print(f\"The sum to the badges priorities is {total}\")\n",
    "    "
   ]
  },
  {
   "cell_type": "markdown",
   "metadata": {},
   "source": [
    "# day 4"
   ]
  },
  {
   "cell_type": "code",
   "execution_count": 90,
   "metadata": {
    "execution": {
     "iopub.execute_input": "2022-12-04T13:36:17.038375Z",
     "iopub.status.busy": "2022-12-04T13:36:17.037165Z",
     "iopub.status.idle": "2022-12-04T13:36:17.058632Z",
     "shell.execute_reply": "2022-12-04T13:36:17.057933Z",
     "shell.execute_reply.started": "2022-12-04T13:36:17.038301Z"
    },
    "tags": []
   },
   "outputs": [
    {
     "name": "stdout",
     "output_type": "stream",
     "text": [
      "The number of pairs where one range contains the other is 450\n",
      "The number of pairs where one range overlaps with the other is 837\n"
     ]
    }
   ],
   "source": [
    "from io import StringIO\n",
    "\n",
    "import pandas as pd\n",
    "import numpy as np\n",
    "\n",
    "f = StringIO(\n",
    "\"\"\"\n",
    "2-4,6-8\n",
    "2-3,4-5\n",
    "5-7,7-9\n",
    "2-8,3-7\n",
    "6-6,4-6\n",
    "2-6,4-8\n",
    "\"\"\".strip()\n",
    ")\n",
    "f = open(\"day04.txt\")\n",
    "\n",
    "cleaning = (\n",
    "    pd.read_csv(\n",
    "        StringIO(f.read().replace(\"-\", \",\")),\n",
    "        header=None)\n",
    "    .set_axis([\"a\", \"b\", \"c\", \"d\"], axis=1)\n",
    "    .assign(\n",
    "        is_one_range=lambda df:\n",
    "        ((df[\"a\"] <= df[\"c\"]) & (df[\"d\"] <= df[\"b\"])) |\n",
    "        ((df[\"a\"] >= df[\"c\"]) & (df[\"d\"] >= df[\"b\"])))\n",
    ")\n",
    "\n",
    "print(f\"\"\"\n",
    "The number of pairs where one range contains the other is {cleaning[\"is_one_range\"].astype(int).sum()}\n",
    "\"\"\".strip())\n",
    "\n",
    "cleaning2 = (\n",
    "    cleaning\n",
    "    .assign(\n",
    "        is_overlap=lambda df:\n",
    "        ((df[\"a\"] <= df[\"c\"]) & (df[\"c\"] <= df[\"b\"])) |\n",
    "        ((df[\"c\"] <= df[\"a\"]) & (df[\"a\"] <= df[\"d\"])))\n",
    ")\n",
    "\n",
    "print(f\"\"\"\n",
    "The number of pairs where one range overlaps with the other is {cleaning2[\"is_overlap\"].astype(int).sum()}\n",
    "\"\"\".strip())\n"
   ]
  },
  {
   "cell_type": "markdown",
   "metadata": {},
   "source": [
    "# day 5"
   ]
  },
  {
   "cell_type": "code",
   "execution_count": 173,
   "metadata": {
    "execution": {
     "iopub.execute_input": "2022-12-06T00:48:54.816580Z",
     "iopub.status.busy": "2022-12-06T00:48:54.815637Z",
     "iopub.status.idle": "2022-12-06T00:48:54.842563Z",
     "shell.execute_reply": "2022-12-06T00:48:54.841974Z",
     "shell.execute_reply.started": "2022-12-06T00:48:54.816524Z"
    },
    "tags": []
   },
   "outputs": [
    {
     "name": "stdout",
     "output_type": "stream",
     "text": [
      "The crates at the top of the stacks are RNZLFZSJH\n",
      "Using the crate mover 9001 the crates at the top of the stacks are CNSFCGJSM\n"
     ]
    }
   ],
   "source": [
    "from copy import deepcopy\n",
    "from io import StringIO\n",
    "\n",
    "import pandas as pd\n",
    "import numpy as np\n",
    "\n",
    "f = StringIO(\n",
    "\"\"\"\n",
    "    [D]    \n",
    "[N] [C]    \n",
    "[Z] [M] [P]\n",
    " 1   2   3 \n",
    "\n",
    "move 1 from 2 to 1\n",
    "move 3 from 1 to 3\n",
    "move 2 from 2 to 1\n",
    "move 1 from 1 to 2\n",
    "\"\"\".strip(\"\\n\")\n",
    ")\n",
    "f = open(\"  day05.txt  \".strip())\n",
    "lines = f.readlines()\n",
    "moves = list(\n",
    "    pd.DataFrame([l.strip().split() for l in lines if \"move\" in l])\n",
    "    .iloc[:, 1::2]\n",
    "    .astype(int)\n",
    "    .itertuples(name=None, index=None)\n",
    ")\n",
    "crates0 = (\n",
    "    pd.DataFrame([list(l) for l in lines if not \"move\" in l][:-2])\n",
    "    .iloc[:, 1::4]\n",
    "    .agg(\"\".join, axis=0)\n",
    "    .apply(reversed)\n",
    "    .apply(\"\".join)\n",
    "    .apply(str.strip)\n",
    "    .apply(list)\n",
    "    .tolist()\n",
    ")\n",
    "\n",
    "crates = [None] + deepcopy(crates0)\n",
    "for n, s, e in moves:\n",
    "    for _ in range(n):\n",
    "        crates[e].append(crates[s].pop())\n",
    "\n",
    "\n",
    "print(f\"\"\"\n",
    "The crates at the top of the stacks are {\"\".join([c[-1] for c in crates[1:]])}\n",
    "\"\"\".strip())\n",
    "\n",
    "crates = [None] + deepcopy(crates0)\n",
    "for n, s, e in moves:\n",
    "    crates[e] += crates[s][-n:]\n",
    "    crates[s] = crates[s][:-n]\n",
    "\n",
    "\n",
    "print(f\"\"\"\n",
    "Using the crate mover 9001 the crates at the top of the stacks are {\"\".join([c[-1] for c in crates[1:]])}\n",
    "\"\"\".strip())"
   ]
  },
  {
   "cell_type": "markdown",
   "metadata": {},
   "source": [
    "# day 6"
   ]
  },
  {
   "cell_type": "code",
   "execution_count": 180,
   "metadata": {
    "execution": {
     "iopub.execute_input": "2022-12-06T20:33:33.802680Z",
     "iopub.status.busy": "2022-12-06T20:33:33.801926Z",
     "iopub.status.idle": "2022-12-06T20:33:33.819869Z",
     "shell.execute_reply": "2022-12-06T20:33:33.818734Z",
     "shell.execute_reply.started": "2022-12-06T20:33:33.802635Z"
    },
    "tags": []
   },
   "outputs": [
    {
     "name": "stdout",
     "output_type": "stream",
     "text": [
      "The marker is after character 1892\n",
      "The start-of-message marker is after character 2313\n"
     ]
    }
   ],
   "source": [
    "\n",
    "from io import StringIO\n",
    "\n",
    "import pandas as pd\n",
    "import numpy as np\n",
    "\n",
    "f = StringIO(\n",
    "\"\"\"\n",
    "bvwbjplbgvbhsrlpgdmjqwftvncz\n",
    "\"\"\".strip(\"\\n\")\n",
    ")\n",
    "f = open(\"  day06.txt  \".strip())\n",
    "word = f.read().strip()\n",
    "ans = None\n",
    "for i in range(len(word)):\n",
    "    if len(set(word[max(0, i - 4):i])) == 4:\n",
    "        ans = i\n",
    "        break\n",
    "\n",
    "print(f\"\"\"\n",
    "The marker is after character {ans}\n",
    "\"\"\".strip())\n",
    "\n",
    "\n",
    "ans = None\n",
    "for i in range(len(word)):\n",
    "    if len(set(word[max(0, i - 14):i])) == 14:\n",
    "        ans = i\n",
    "        break\n",
    "\n",
    "print(f\"\"\"\n",
    "The start-of-message marker is after character {ans}\n",
    "\"\"\".strip())"
   ]
  },
  {
   "cell_type": "code",
   "execution_count": null,
   "metadata": {},
   "outputs": [],
   "source": []
  },
  {
   "cell_type": "code",
   "execution_count": null,
   "metadata": {},
   "outputs": [],
   "source": []
  },
  {
   "cell_type": "code",
   "execution_count": null,
   "metadata": {},
   "outputs": [],
   "source": []
  },
  {
   "cell_type": "markdown",
   "metadata": {},
   "source": [
    "# template"
   ]
  },
  {
   "cell_type": "raw",
   "metadata": {
    "execution": {
     "iopub.execute_input": "2022-12-04T13:39:31.933602Z",
     "iopub.status.busy": "2022-12-04T13:39:31.932634Z",
     "iopub.status.idle": "2022-12-04T13:39:31.941821Z",
     "shell.execute_reply": "2022-12-04T13:39:31.940704Z",
     "shell.execute_reply.started": "2022-12-04T13:39:31.933508Z"
    },
    "tags": []
   },
   "source": [
    "from io import StringIO\n",
    "\n",
    "import pandas as pd\n",
    "import numpy as np\n",
    "\n",
    "f = StringIO(\n",
    "\"\"\"\n",
    "\n",
    "<sample input>\n",
    "\n",
    "\"\"\".strip(\"\\n\")\n",
    ")\n",
    "# f = open(\"  day0N.txt  \".strip())\n",
    "\n",
    "\n",
    "\n",
    "print(f\"\"\"\n",
    "The solution is {\"SOLUTION\"}\n",
    "\"\"\".strip())"
   ]
  }
 ],
 "metadata": {
  "kernelspec": {
   "display_name": "Python 3 (ipykernel)",
   "language": "python",
   "name": "python3"
  },
  "language_info": {
   "codemirror_mode": {
    "name": "ipython",
    "version": 3
   },
   "file_extension": ".py",
   "mimetype": "text/x-python",
   "name": "python",
   "nbconvert_exporter": "python",
   "pygments_lexer": "ipython3",
   "version": "3.9.12"
  }
 },
 "nbformat": 4,
 "nbformat_minor": 4
}
