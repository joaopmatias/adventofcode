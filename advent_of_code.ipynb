{
 "cells": [
  {
   "cell_type": "markdown",
   "metadata": {},
   "source": [
    "# Advent of code"
   ]
  },
  {
   "cell_type": "markdown",
   "metadata": {},
   "source": [
    "### day 1"
   ]
  },
  {
   "cell_type": "code",
   "execution_count": 20,
   "metadata": {
    "execution": {
     "iopub.execute_input": "2022-12-01T22:32:00.098976Z",
     "iopub.status.busy": "2022-12-01T22:32:00.097349Z",
     "iopub.status.idle": "2022-12-01T22:32:00.118670Z",
     "shell.execute_reply": "2022-12-01T22:32:00.118047Z",
     "shell.execute_reply.started": "2022-12-01T22:32:00.098903Z"
    },
    "tags": []
   },
   "outputs": [
    {
     "name": "stdout",
     "output_type": "stream",
     "text": [
      "The elf with the most calories has [69693]\n",
      "The top 3 elves have [200945]\n"
     ]
    }
   ],
   "source": [
    "from io import StringIO\n",
    "\n",
    "import pandas as pd\n",
    "import numpy as np\n",
    "\n",
    "f = StringIO(\n",
    "\"\"\"\n",
    "1000\n",
    "2000\n",
    "3000\n",
    "\n",
    "4000\n",
    "\n",
    "5000\n",
    "6000\n",
    "\n",
    "7000\n",
    "8000\n",
    "9000\n",
    "\n",
    "10000\n",
    "\"\"\"\n",
    ")\n",
    "f = open(\"day1.txt\")\n",
    "elfs = (\n",
    "    pd.Series(f)\n",
    "    .rename(\"calories\")\n",
    "    .str.strip()\n",
    "    .loc[lambda s: s != \"\"]\n",
    "    .astype(int)\n",
    "    .to_frame()\n",
    "    .reset_index()\n",
    "    .assign(elf=lambda df: df[\"index\"] - df.index)\n",
    "    [[\"elf\", \"calories\"]]\n",
    "    .groupby(by=\"elf\")\n",
    "    .sum()\n",
    ")\n",
    "\n",
    "print(f\"The elf with the most calories has {elfs.max().to_numpy()}\")\n",
    "\n",
    "top3 = (\n",
    "    elfs\n",
    "    .sort_values(\"calories\", ascending=False)\n",
    "    .iloc[:3]\n",
    ")\n",
    "\n",
    "print(f\"The top 3 elves have {top3.sum().to_numpy()}\")\n"
   ]
  },
  {
   "cell_type": "markdown",
   "metadata": {},
   "source": [
    "# day 2"
   ]
  },
  {
   "cell_type": "code",
   "execution_count": 33,
   "metadata": {
    "execution": {
     "iopub.execute_input": "2022-12-03T00:07:36.251747Z",
     "iopub.status.busy": "2022-12-03T00:07:36.251006Z",
     "iopub.status.idle": "2022-12-03T00:07:36.277414Z",
     "shell.execute_reply": "2022-12-03T00:07:36.276650Z",
     "shell.execute_reply.started": "2022-12-03T00:07:36.251692Z"
    },
    "tags": []
   },
   "outputs": [
    {
     "name": "stdout",
     "output_type": "stream",
     "text": [
      "The total score using the guide: 12740\n",
      "The total score using the 2nd guide: 11980\n"
     ]
    }
   ],
   "source": [
    "from io import StringIO\n",
    "\n",
    "import pandas as pd\n",
    "import numpy as np\n",
    "\n",
    "\"\"\"\n",
    "The first column is what your opponent is going to play: A for Rock, B for Paper, and C for Scissors\n",
    "\n",
    "The second column, you reason, must be what you should play in response: X for Rock, Y for Paper, and Z for Scissors\n",
    "\n",
    "1 for Rock, 2 for Paper, and 3 for Scissors\n",
    "\n",
    "0 if you lost, 3 if the round was a draw, and 6 if you won\n",
    "\"\"\"\n",
    "\n",
    "\n",
    "f = StringIO(\n",
    "\"\"\"\n",
    "A Y\n",
    "B X\n",
    "C Z\n",
    "\"\"\"\n",
    ")\n",
    "f = open(\"day2.txt\")\n",
    "\n",
    "tournament = (\n",
    "    pd.read_csv(f, sep=\" \", header=None)\n",
    "    .set_axis([\"foe\", \"me\"], axis=1)\n",
    "    .replace({\n",
    "        \"A\": 1,\n",
    "        \"B\": 2,\n",
    "        \"C\": 3,\n",
    "        \"X\": 1,\n",
    "        \"Y\": 2,\n",
    "        \"Z\": 3,\n",
    "    })\n",
    "    .assign(outcome=lambda df: ((df[\"me\"] - df[\"foe\"] + 1) % 3) * 3)\n",
    ")\n",
    "\n",
    "print(f\"The total score using the guide: {tournament.sum().loc[['me', 'outcome']].sum()}\")\n",
    "\n",
    "\"\"\"\n",
    "X means you need to lose, Y means you need to end the round in a draw, and Z means you need to win\n",
    "\"\"\"\n",
    "\n",
    "tournament2 = (\n",
    "    tournament\n",
    "    .assign(outcome=lambda df: 3 * (df[\"me\"] - 1))\n",
    "    .assign(me=lambda df: (df[\"me\"] + df[\"foe\"]) % 3 + 1)\n",
    ")\n",
    "\n",
    "print(f\"The total score using the 2nd guide: {tournament2.sum().loc[['me', 'outcome']].sum()}\")\n"
   ]
  },
  {
   "cell_type": "markdown",
   "metadata": {},
   "source": [
    "# day 3"
   ]
  },
  {
   "cell_type": "code",
   "execution_count": 69,
   "metadata": {
    "execution": {
     "iopub.execute_input": "2022-12-03T13:45:47.057433Z",
     "iopub.status.busy": "2022-12-03T13:45:47.056469Z",
     "iopub.status.idle": "2022-12-03T13:45:47.073278Z",
     "shell.execute_reply": "2022-12-03T13:45:47.072775Z",
     "shell.execute_reply.started": "2022-12-03T13:45:47.057368Z"
    },
    "tags": []
   },
   "outputs": [
    {
     "name": "stdout",
     "output_type": "stream",
     "text": [
      "The sum to priorities is 7980\n",
      "The sum to the badges priorities is 2881\n"
     ]
    }
   ],
   "source": [
    "from io import StringIO\n",
    "\n",
    "import pandas as pd\n",
    "import numpy as np\n",
    "\n",
    "f = StringIO(\n",
    "\"\"\"\n",
    "vJrwpWtwJgWrhcsFMMfFFhFp\n",
    "jqHRNqRjqzjGDLGLrsFMfFZSrLrFZsSL\n",
    "PmmdzqPrVvPwwTWBwg\n",
    "wMqvLMZHhHMvwLHjbvcjnnSBnvTQFn\n",
    "ttgJtRGJQctTZtZT\n",
    "CrZsJsPPZsGzwwsLwLmpwMDw\n",
    "\"\"\".strip()\n",
    ")\n",
    "f = open(\"day3.txt\")\n",
    "total = 0\n",
    "for l in f:\n",
    "    ll = l.strip()\n",
    "    aa = set(ll[:len(ll) // 2])\n",
    "    bb = set(ll[len(ll) // 2:])\n",
    "    oo = ord((aa & bb).pop())\n",
    "    total += oo - 96 if oo > 95 else oo - 65 + 27\n",
    "\n",
    "print(f\"The sum to priorities is {total}\")\n",
    "\n",
    "f = StringIO(\n",
    "\"\"\"\n",
    "vJrwpWtwJgWrhcsFMMfFFhFp\n",
    "jqHRNqRjqzjGDLGLrsFMfFZSrLrFZsSL\n",
    "PmmdzqPrVvPwwTWBwg\n",
    "wMqvLMZHhHMvwLHjbvcjnnSBnvTQFn\n",
    "ttgJtRGJQctTZtZT\n",
    "CrZsJsPPZsGzwwsLwLmpwMDw\n",
    "\"\"\".strip()\n",
    ")\n",
    "f = open(\"day3.txt\")\n",
    "total = 0\n",
    "lines = f.readlines()\n",
    "for a, b, c in zip(lines[0::3], lines[1::3], lines[2::3]):\n",
    "    badge = (set(a.strip()) & set(b.strip()) & set(c.strip())).pop()\n",
    "    oo = ord(badge)\n",
    "    total += oo - 96 if oo > 95 else oo - 65 + 27\n",
    "    \n",
    "print(f\"The sum to the badges priorities is {total}\")\n",
    "    "
   ]
  },
  {
   "cell_type": "code",
   "execution_count": null,
   "metadata": {},
   "outputs": [],
   "source": []
  }
 ],
 "metadata": {
  "kernelspec": {
   "display_name": "Python 3 (ipykernel)",
   "language": "python",
   "name": "python3"
  },
  "language_info": {
   "codemirror_mode": {
    "name": "ipython",
    "version": 3
   },
   "file_extension": ".py",
   "mimetype": "text/x-python",
   "name": "python",
   "nbconvert_exporter": "python",
   "pygments_lexer": "ipython3",
   "version": "3.9.12"
  }
 },
 "nbformat": 4,
 "nbformat_minor": 4
}
